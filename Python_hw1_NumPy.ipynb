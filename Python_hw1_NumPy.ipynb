{
  "nbformat": 4,
  "nbformat_minor": 0,
  "metadata": {
    "colab": {
      "provenance": []
    },
    "kernelspec": {
      "name": "python3",
      "display_name": "Python 3"
    },
    "language_info": {
      "name": "python"
    }
  },
  "cells": [
    {
      "cell_type": "code",
      "execution_count": 3,
      "metadata": {
        "id": "IJBf9PpCUvcz"
      },
      "outputs": [],
      "source": [
        "import numpy as np\n",
        "import matplotlib.pyplot as plt"
      ]
    },
    {
      "cell_type": "code",
      "source": [
        "# 1. (1 балл)\n",
        "# Создайте двумерный массив, полностью состоящий из чисел 3 размерности 5х5.\n",
        "# Создайте вектор из возрастающих чисел размерности 5.\n",
        "# Сложите матрицу с вектором.\n",
        "# Измените размерность вектора на 5х1.\n",
        "# Сложите матрицу с измененным вектором.\n",
        "# Результат сравните."
      ],
      "metadata": {
        "id": "BlBQ1LD5ad27"
      },
      "execution_count": null,
      "outputs": []
    },
    {
      "cell_type": "code",
      "source": [
        "matrix = np.full((5, 5), 3)"
      ],
      "metadata": {
        "id": "kmI7sJSo7sZv"
      },
      "execution_count": null,
      "outputs": []
    },
    {
      "cell_type": "code",
      "source": [
        "matrix"
      ],
      "metadata": {
        "colab": {
          "base_uri": "https://localhost:8080/"
        },
        "id": "SKQugI_MX1qu",
        "outputId": "aae5b6a2-7dc0-4a6e-c021-5b084d44bd21"
      },
      "execution_count": null,
      "outputs": [
        {
          "output_type": "execute_result",
          "data": {
            "text/plain": [
              "array([[3, 3, 3, 3, 3],\n",
              "       [3, 3, 3, 3, 3],\n",
              "       [3, 3, 3, 3, 3],\n",
              "       [3, 3, 3, 3, 3],\n",
              "       [3, 3, 3, 3, 3]])"
            ]
          },
          "metadata": {},
          "execution_count": 13
        }
      ]
    },
    {
      "cell_type": "code",
      "source": [
        "vector = np.arange(1, 6, 1)"
      ],
      "metadata": {
        "id": "3f5Ta9dyX8Yw"
      },
      "execution_count": null,
      "outputs": []
    },
    {
      "cell_type": "code",
      "source": [
        "vector"
      ],
      "metadata": {
        "colab": {
          "base_uri": "https://localhost:8080/"
        },
        "id": "wOsvVYThYSxb",
        "outputId": "66bba00a-d909-486e-b11a-c8406a451b08"
      },
      "execution_count": null,
      "outputs": [
        {
          "output_type": "execute_result",
          "data": {
            "text/plain": [
              "array([1, 2, 3, 4, 5])"
            ]
          },
          "metadata": {},
          "execution_count": 15
        }
      ]
    },
    {
      "cell_type": "code",
      "source": [
        "mat_vec = matrix + vector"
      ],
      "metadata": {
        "id": "5J1BzWGtYlJl"
      },
      "execution_count": null,
      "outputs": []
    },
    {
      "cell_type": "code",
      "source": [
        "mat_vec"
      ],
      "metadata": {
        "colab": {
          "base_uri": "https://localhost:8080/"
        },
        "id": "5aVCcq48Ytws",
        "outputId": "6a1e435a-e06e-4d77-b7f7-570df4d49641"
      },
      "execution_count": null,
      "outputs": [
        {
          "output_type": "execute_result",
          "data": {
            "text/plain": [
              "array([[4, 5, 6, 7, 8],\n",
              "       [4, 5, 6, 7, 8],\n",
              "       [4, 5, 6, 7, 8],\n",
              "       [4, 5, 6, 7, 8],\n",
              "       [4, 5, 6, 7, 8]])"
            ]
          },
          "metadata": {},
          "execution_count": 17
        }
      ]
    },
    {
      "cell_type": "code",
      "source": [
        "vector.reshape(5, 1)"
      ],
      "metadata": {
        "colab": {
          "base_uri": "https://localhost:8080/"
        },
        "id": "pd-TykX1Y0P6",
        "outputId": "6570b6e9-034f-4474-ee2b-ccfae5cb1ec5"
      },
      "execution_count": null,
      "outputs": [
        {
          "output_type": "execute_result",
          "data": {
            "text/plain": [
              "array([[1],\n",
              "       [2],\n",
              "       [3],\n",
              "       [4],\n",
              "       [5]])"
            ]
          },
          "metadata": {},
          "execution_count": 18
        }
      ]
    },
    {
      "cell_type": "code",
      "source": [
        "mat_vec_2 = matrix + vector"
      ],
      "metadata": {
        "id": "N8O8tv2cZBZ8"
      },
      "execution_count": null,
      "outputs": []
    },
    {
      "cell_type": "code",
      "source": [
        "mat_vec_2"
      ],
      "metadata": {
        "colab": {
          "base_uri": "https://localhost:8080/"
        },
        "id": "1Yc9Y92GZHE2",
        "outputId": "1c90667d-d1fa-49c0-9120-9642568963c3"
      },
      "execution_count": null,
      "outputs": [
        {
          "output_type": "execute_result",
          "data": {
            "text/plain": [
              "array([[4, 5, 6, 7, 8],\n",
              "       [4, 5, 6, 7, 8],\n",
              "       [4, 5, 6, 7, 8],\n",
              "       [4, 5, 6, 7, 8],\n",
              "       [4, 5, 6, 7, 8]])"
            ]
          },
          "metadata": {},
          "execution_count": 20
        }
      ]
    },
    {
      "cell_type": "code",
      "source": [
        "# Резульат одинаковый."
      ],
      "metadata": {
        "id": "1HVP_spYZtye"
      },
      "execution_count": null,
      "outputs": []
    },
    {
      "cell_type": "code",
      "source": [
        "# ===================="
      ],
      "metadata": {
        "id": "oLckembyZz0M"
      },
      "execution_count": null,
      "outputs": []
    },
    {
      "cell_type": "code",
      "source": [
        "# 2. (2 балла)\n",
        "# Создайте двумерный массив случайных чисел, размерности 5х5.\n",
        "# 1. Перемножьте с единичной диагональной матрицей размерности 5х5. Используйте поэлементное умножение.\n",
        "# 2. Перемножьте с единичной диагональной матрицей размерности 5х5. Используйте матричное умножение.\n",
        "# Результат сравните\n"
      ],
      "metadata": {
        "id": "YHZQaqXGaiGZ"
      },
      "execution_count": null,
      "outputs": []
    },
    {
      "cell_type": "code",
      "source": [
        "rand_matrix = np.random.randint(0, 10, size=(5, 5))"
      ],
      "metadata": {
        "id": "Rq-IYq4X71sh"
      },
      "execution_count": null,
      "outputs": []
    },
    {
      "cell_type": "code",
      "source": [
        "rand_matrix"
      ],
      "metadata": {
        "colab": {
          "base_uri": "https://localhost:8080/"
        },
        "id": "Y1H5jsN0bVa2",
        "outputId": "beddf02f-a0da-42db-da38-9691f23af86c"
      },
      "execution_count": null,
      "outputs": [
        {
          "output_type": "execute_result",
          "data": {
            "text/plain": [
              "array([[3, 6, 6, 8, 2],\n",
              "       [7, 5, 8, 2, 2],\n",
              "       [7, 4, 2, 6, 0],\n",
              "       [2, 8, 3, 7, 2],\n",
              "       [6, 6, 6, 4, 4]])"
            ]
          },
          "metadata": {},
          "execution_count": 22
        }
      ]
    },
    {
      "cell_type": "code",
      "source": [
        "# единичная диагональная матрица\n",
        "ones_diag_matrix = np.identity(5)"
      ],
      "metadata": {
        "id": "xFee6C8XbfRg"
      },
      "execution_count": null,
      "outputs": []
    },
    {
      "cell_type": "code",
      "source": [
        "ones_diag_matrix"
      ],
      "metadata": {
        "colab": {
          "base_uri": "https://localhost:8080/"
        },
        "id": "HZS8LEAabuqo",
        "outputId": "38153ec6-9123-45de-e7bd-8d7b88415a16"
      },
      "execution_count": null,
      "outputs": [
        {
          "output_type": "execute_result",
          "data": {
            "text/plain": [
              "array([[1., 0., 0., 0., 0.],\n",
              "       [0., 1., 0., 0., 0.],\n",
              "       [0., 0., 1., 0., 0.],\n",
              "       [0., 0., 0., 1., 0.],\n",
              "       [0., 0., 0., 0., 1.]])"
            ]
          },
          "metadata": {},
          "execution_count": 24
        }
      ]
    },
    {
      "cell_type": "code",
      "source": [
        "# поэлементное умножение\n",
        "element_mul_matrix = rand_matrix * ones_diag_matrix"
      ],
      "metadata": {
        "id": "NUIyLsmUbxoU"
      },
      "execution_count": null,
      "outputs": []
    },
    {
      "cell_type": "code",
      "source": [
        "element_mul_matrix"
      ],
      "metadata": {
        "colab": {
          "base_uri": "https://localhost:8080/"
        },
        "id": "xWR-XfxxcGbU",
        "outputId": "506115af-952b-47d7-ce4d-9d4450d8a8e0"
      },
      "execution_count": null,
      "outputs": [
        {
          "output_type": "execute_result",
          "data": {
            "text/plain": [
              "array([[3., 0., 0., 0., 0.],\n",
              "       [0., 5., 0., 0., 0.],\n",
              "       [0., 0., 2., 0., 0.],\n",
              "       [0., 0., 0., 7., 0.],\n",
              "       [0., 0., 0., 0., 4.]])"
            ]
          },
          "metadata": {},
          "execution_count": 26
        }
      ]
    },
    {
      "cell_type": "code",
      "source": [
        "# матричное умножение (строка на столбец поэлементно, потом сумма)\n",
        "matrix_mul_matrix = np.matmul(rand_matrix, ones_diag_matrix)"
      ],
      "metadata": {
        "id": "5LBbnHOqcMri"
      },
      "execution_count": null,
      "outputs": []
    },
    {
      "cell_type": "code",
      "source": [
        "matrix_mul_matrix"
      ],
      "metadata": {
        "colab": {
          "base_uri": "https://localhost:8080/"
        },
        "id": "CJNfLSXwdUqH",
        "outputId": "ea56c277-cf3d-4310-ba84-108bd433c2e2"
      },
      "execution_count": null,
      "outputs": [
        {
          "output_type": "execute_result",
          "data": {
            "text/plain": [
              "array([[3., 6., 6., 8., 2.],\n",
              "       [7., 5., 8., 2., 2.],\n",
              "       [7., 4., 2., 6., 0.],\n",
              "       [2., 8., 3., 7., 2.],\n",
              "       [6., 6., 6., 4., 4.]])"
            ]
          },
          "metadata": {},
          "execution_count": 29
        }
      ]
    },
    {
      "cell_type": "code",
      "source": [
        "# При поэлементном умножении осталась только главная диагональ основной матрицы, т.к. у единичной матрицы все остальные элементы равны нулю\n",
        "# При матричном умножении результат умножения равен основной матрице"
      ],
      "metadata": {
        "id": "BmDvdWIgdwXV"
      },
      "execution_count": null,
      "outputs": []
    },
    {
      "cell_type": "code",
      "source": [
        "# ===================="
      ],
      "metadata": {
        "id": "_7rbh2tzeYQR"
      },
      "execution_count": null,
      "outputs": []
    },
    {
      "cell_type": "code",
      "source": [
        "# 3. (1 балл)\n",
        "# Создайте двумерный массив 8х8, заполненный 0 и 1 в шахматном порядке."
      ],
      "metadata": {
        "id": "P3jiS6AmeZvL"
      },
      "execution_count": null,
      "outputs": []
    },
    {
      "cell_type": "code",
      "source": [
        "# функция, возвращающая остаток от деления сумм индексов матрицы на 2\n",
        "def chess_func(i, j) -> int:\n",
        "  return (i + j) % 2"
      ],
      "metadata": {
        "id": "PSIk9tdB8H7g"
      },
      "execution_count": null,
      "outputs": []
    },
    {
      "cell_type": "code",
      "source": [
        "# применяем функцию ко всем комбинациям индексов матрицы\n",
        "chess_matrix = np.fromfunction(chess_func, (8, 8), dtype=int)"
      ],
      "metadata": {
        "id": "eki6eI5M8IbI"
      },
      "execution_count": null,
      "outputs": []
    },
    {
      "cell_type": "code",
      "source": [
        "chess_matrix"
      ],
      "metadata": {
        "colab": {
          "base_uri": "https://localhost:8080/"
        },
        "id": "uHRQCWTJlg9x",
        "outputId": "c4178a7b-fe81-449f-9440-806fa7e06d53"
      },
      "execution_count": null,
      "outputs": [
        {
          "output_type": "execute_result",
          "data": {
            "text/plain": [
              "array([[0, 1, 0, 1, 0, 1, 0, 1],\n",
              "       [1, 0, 1, 0, 1, 0, 1, 0],\n",
              "       [0, 1, 0, 1, 0, 1, 0, 1],\n",
              "       [1, 0, 1, 0, 1, 0, 1, 0],\n",
              "       [0, 1, 0, 1, 0, 1, 0, 1],\n",
              "       [1, 0, 1, 0, 1, 0, 1, 0],\n",
              "       [0, 1, 0, 1, 0, 1, 0, 1],\n",
              "       [1, 0, 1, 0, 1, 0, 1, 0]])"
            ]
          },
          "metadata": {},
          "execution_count": 50
        }
      ]
    },
    {
      "cell_type": "code",
      "source": [
        "# ===================="
      ],
      "metadata": {
        "id": "PbJx59J7iW4J"
      },
      "execution_count": null,
      "outputs": []
    },
    {
      "cell_type": "code",
      "source": [
        "# 4. (1 балл)\n",
        "# Создайте массив из отрицательных и положительных чисел размерности 10. Замените все отрицательные числа нулями."
      ],
      "metadata": {
        "id": "hPi9OxW9iW_a"
      },
      "execution_count": null,
      "outputs": []
    },
    {
      "cell_type": "code",
      "source": [
        "rand_matrix = np.random.randint(-9, 10, size=(10))"
      ],
      "metadata": {
        "id": "ctWsKka18UvN"
      },
      "execution_count": null,
      "outputs": []
    },
    {
      "cell_type": "code",
      "source": [
        "rand_matrix"
      ],
      "metadata": {
        "colab": {
          "base_uri": "https://localhost:8080/"
        },
        "id": "Oc0vCsLWisQz",
        "outputId": "4d9673cc-338d-4d29-9135-acb79d4038b6"
      },
      "execution_count": null,
      "outputs": [
        {
          "output_type": "execute_result",
          "data": {
            "text/plain": [
              "array([-9, -4, -7,  8, -8, -7,  4, -3,  7, -1])"
            ]
          },
          "metadata": {},
          "execution_count": 33
        }
      ]
    },
    {
      "cell_type": "code",
      "source": [
        "# маска для обнуления отрицательных чисел в rand_matrix\n",
        "mask_matrix = rand_matrix > 0"
      ],
      "metadata": {
        "id": "3miX7ehUiyli"
      },
      "execution_count": null,
      "outputs": []
    },
    {
      "cell_type": "code",
      "source": [
        "mask_matrix"
      ],
      "metadata": {
        "colab": {
          "base_uri": "https://localhost:8080/"
        },
        "id": "1er2OWiwjEx5",
        "outputId": "b8516dbe-1838-45a0-8217-1b4ec26fe728"
      },
      "execution_count": null,
      "outputs": [
        {
          "output_type": "execute_result",
          "data": {
            "text/plain": [
              "array([False, False, False,  True, False, False,  True, False,  True,\n",
              "       False])"
            ]
          },
          "metadata": {},
          "execution_count": 35
        }
      ]
    },
    {
      "cell_type": "code",
      "source": [
        "changed_matrix = rand_matrix * mask_matrix"
      ],
      "metadata": {
        "id": "-endQHCyjM_G"
      },
      "execution_count": null,
      "outputs": []
    },
    {
      "cell_type": "code",
      "source": [
        "changed_matrix"
      ],
      "metadata": {
        "colab": {
          "base_uri": "https://localhost:8080/"
        },
        "id": "8d1VsPOsjWEs",
        "outputId": "b3af2804-35d7-47dc-e2ee-6b49524ea544"
      },
      "execution_count": null,
      "outputs": [
        {
          "output_type": "execute_result",
          "data": {
            "text/plain": [
              "array([0, 0, 0, 8, 0, 0, 4, 0, 7, 0])"
            ]
          },
          "metadata": {},
          "execution_count": 37
        }
      ]
    },
    {
      "cell_type": "code",
      "source": [
        "# ===================="
      ],
      "metadata": {
        "id": "6T4NXqyUjlno"
      },
      "execution_count": null,
      "outputs": []
    },
    {
      "cell_type": "code",
      "source": [
        "# 5. (1 балл)\n",
        "# Создайте двумерный массив из случайных чисел от 0 до 10 размерности 3х3. Поменяйте местами первую и вторую строки. Поменяйте местами второй и третий столбец."
      ],
      "metadata": {
        "id": "a8sMEG76jlxw"
      },
      "execution_count": null,
      "outputs": []
    },
    {
      "cell_type": "code",
      "source": [
        "rand_matrix = np.random.randint(11, size=(3, 3))"
      ],
      "metadata": {
        "id": "G1ddiTBsoJJ6"
      },
      "execution_count": null,
      "outputs": []
    },
    {
      "cell_type": "code",
      "source": [
        "rand_matrix"
      ],
      "metadata": {
        "colab": {
          "base_uri": "https://localhost:8080/"
        },
        "id": "ESLr08yToV7E",
        "outputId": "43e1eb92-7d8a-4b47-8f03-f1673690d591"
      },
      "execution_count": null,
      "outputs": [
        {
          "output_type": "execute_result",
          "data": {
            "text/plain": [
              "array([[ 6,  7,  9],\n",
              "       [ 8,  4, 10],\n",
              "       [ 7,  5,  0]])"
            ]
          },
          "metadata": {},
          "execution_count": 103
        }
      ]
    },
    {
      "cell_type": "code",
      "source": [
        "# меняем местами первую и сторую строки. используем copy, чтобы уйти от view\n",
        "rand_matrix[1, 0:], rand_matrix[0, 0:] = rand_matrix[0, 0:].copy(), rand_matrix[1, 0:].copy()"
      ],
      "metadata": {
        "id": "7gpOIIw9rzPQ"
      },
      "execution_count": null,
      "outputs": []
    },
    {
      "cell_type": "code",
      "source": [
        "rand_matrix"
      ],
      "metadata": {
        "colab": {
          "base_uri": "https://localhost:8080/"
        },
        "id": "dWVXRCHnpHVW",
        "outputId": "c2dc3c35-401e-49b3-efc0-9f8b14659c0a"
      },
      "execution_count": null,
      "outputs": [
        {
          "output_type": "execute_result",
          "data": {
            "text/plain": [
              "array([[ 8,  4, 10],\n",
              "       [ 6,  7,  9],\n",
              "       [ 7,  5,  0]])"
            ]
          },
          "metadata": {},
          "execution_count": 105
        }
      ]
    },
    {
      "cell_type": "code",
      "source": [
        "# меняем местами второй и третий столбец. используем copy, чтобы уйти от view\n",
        "rand_matrix[0:, 1], rand_matrix[0:, 2] = rand_matrix[0:, 2].copy(), rand_matrix[0:, 1].copy()"
      ],
      "metadata": {
        "id": "UOjS6926q4qX"
      },
      "execution_count": null,
      "outputs": []
    },
    {
      "cell_type": "code",
      "source": [
        "rand_matrix"
      ],
      "metadata": {
        "colab": {
          "base_uri": "https://localhost:8080/"
        },
        "id": "dJDNKdFfqiRN",
        "outputId": "0d3e6960-e814-4a2a-a341-1c9bdfae0387"
      },
      "execution_count": null,
      "outputs": [
        {
          "output_type": "execute_result",
          "data": {
            "text/plain": [
              "array([[ 8, 10,  4],\n",
              "       [ 6,  9,  7],\n",
              "       [ 7,  0,  5]])"
            ]
          },
          "metadata": {},
          "execution_count": 107
        }
      ]
    },
    {
      "cell_type": "code",
      "source": [
        "# ===================="
      ],
      "metadata": {
        "id": "NCIkOdPns9ov"
      },
      "execution_count": null,
      "outputs": []
    },
    {
      "cell_type": "code",
      "source": [
        "# 6. (1 балл)\n",
        "# Создайте массив возрастающих чисел размерности 7х5. Посчитайте сумму всех чисел в массиве. Посчитайте сумму массива отдельно по строкам."
      ],
      "metadata": {
        "id": "xItgJygjs933"
      },
      "execution_count": null,
      "outputs": []
    },
    {
      "cell_type": "code",
      "source": [
        "matrix = np.arange(35).reshape(7, 5)"
      ],
      "metadata": {
        "id": "ZCQj1-FvtLjh"
      },
      "execution_count": 4,
      "outputs": []
    },
    {
      "cell_type": "code",
      "source": [
        "matrix"
      ],
      "metadata": {
        "colab": {
          "base_uri": "https://localhost:8080/"
        },
        "id": "KrVD6S_-tp9t",
        "outputId": "9c80e72e-e451-4da5-b728-e43613c7916f"
      },
      "execution_count": null,
      "outputs": [
        {
          "output_type": "execute_result",
          "data": {
            "text/plain": [
              "array([[ 0,  1,  2,  3,  4],\n",
              "       [ 5,  6,  7,  8,  9],\n",
              "       [10, 11, 12, 13, 14],\n",
              "       [15, 16, 17, 18, 19],\n",
              "       [20, 21, 22, 23, 24],\n",
              "       [25, 26, 27, 28, 29],\n",
              "       [30, 31, 32, 33, 34]])"
            ]
          },
          "metadata": {},
          "execution_count": 112
        }
      ]
    },
    {
      "cell_type": "code",
      "source": [
        "matrix_sum = matrix.sum()"
      ],
      "metadata": {
        "id": "fd1e2skQtzrA"
      },
      "execution_count": null,
      "outputs": []
    },
    {
      "cell_type": "code",
      "source": [
        "# сумма всех чисел в массиве\n",
        "matrix_sum"
      ],
      "metadata": {
        "colab": {
          "base_uri": "https://localhost:8080/"
        },
        "id": "vqjh1b8quPM9",
        "outputId": "9aeca265-f170-4718-c484-d7279edda8ee"
      },
      "execution_count": null,
      "outputs": [
        {
          "output_type": "execute_result",
          "data": {
            "text/plain": [
              "595"
            ]
          },
          "metadata": {},
          "execution_count": 114
        }
      ]
    },
    {
      "cell_type": "code",
      "source": [
        "# сумма по строкам (вдоль оси 1)\n",
        "sum_axis_1 = matrix.sum(axis=1)"
      ],
      "metadata": {
        "id": "qN0zRPIOuR8r"
      },
      "execution_count": 5,
      "outputs": []
    },
    {
      "cell_type": "code",
      "source": [
        "sum_axis_1"
      ],
      "metadata": {
        "colab": {
          "base_uri": "https://localhost:8080/"
        },
        "id": "-g5pIHozupua",
        "outputId": "48dc0def-d4f2-4f00-f4bf-076e778e00a3"
      },
      "execution_count": 6,
      "outputs": [
        {
          "output_type": "execute_result",
          "data": {
            "text/plain": [
              "array([ 10,  35,  60,  85, 110, 135, 160])"
            ]
          },
          "metadata": {},
          "execution_count": 6
        }
      ]
    },
    {
      "cell_type": "code",
      "source": [
        "# ===================="
      ],
      "metadata": {
        "id": "npPJ5Qwdu3Ov"
      },
      "execution_count": null,
      "outputs": []
    },
    {
      "cell_type": "code",
      "source": [
        "# 7. (1 балл)\n",
        "# Нарисуйте график синуса по промежутке от 0 до 2 пи. Используйте не менее, чем 100 точек.\n",
        "# Для создания графика используйте plt.plot(x, arr) из библиотеки matplotlib."
      ],
      "metadata": {
        "id": "a1Ap7N5Du3j2"
      },
      "execution_count": null,
      "outputs": []
    },
    {
      "cell_type": "code",
      "source": [
        "# Создаём массив от 0 до 2pi. 100 значений.\n",
        "rad_array = np.linspace(0, 2 * np.pi, 100)"
      ],
      "metadata": {
        "id": "kaSQnwldu4Zy"
      },
      "execution_count": 24,
      "outputs": []
    },
    {
      "cell_type": "code",
      "source": [
        "rad_array"
      ],
      "metadata": {
        "id": "Q9wA_RwNu4r4",
        "colab": {
          "base_uri": "https://localhost:8080/"
        },
        "outputId": "bdec293a-a1c6-460b-d530-edd48d976dab"
      },
      "execution_count": 25,
      "outputs": [
        {
          "output_type": "execute_result",
          "data": {
            "text/plain": [
              "array([0.        , 0.06346652, 0.12693304, 0.19039955, 0.25386607,\n",
              "       0.31733259, 0.38079911, 0.44426563, 0.50773215, 0.57119866,\n",
              "       0.63466518, 0.6981317 , 0.76159822, 0.82506474, 0.88853126,\n",
              "       0.95199777, 1.01546429, 1.07893081, 1.14239733, 1.20586385,\n",
              "       1.26933037, 1.33279688, 1.3962634 , 1.45972992, 1.52319644,\n",
              "       1.58666296, 1.65012947, 1.71359599, 1.77706251, 1.84052903,\n",
              "       1.90399555, 1.96746207, 2.03092858, 2.0943951 , 2.15786162,\n",
              "       2.22132814, 2.28479466, 2.34826118, 2.41172769, 2.47519421,\n",
              "       2.53866073, 2.60212725, 2.66559377, 2.72906028, 2.7925268 ,\n",
              "       2.85599332, 2.91945984, 2.98292636, 3.04639288, 3.10985939,\n",
              "       3.17332591, 3.23679243, 3.30025895, 3.36372547, 3.42719199,\n",
              "       3.4906585 , 3.55412502, 3.61759154, 3.68105806, 3.74452458,\n",
              "       3.8079911 , 3.87145761, 3.93492413, 3.99839065, 4.06185717,\n",
              "       4.12532369, 4.1887902 , 4.25225672, 4.31572324, 4.37918976,\n",
              "       4.44265628, 4.5061228 , 4.56958931, 4.63305583, 4.69652235,\n",
              "       4.75998887, 4.82345539, 4.88692191, 4.95038842, 5.01385494,\n",
              "       5.07732146, 5.14078798, 5.2042545 , 5.26772102, 5.33118753,\n",
              "       5.39465405, 5.45812057, 5.52158709, 5.58505361, 5.64852012,\n",
              "       5.71198664, 5.77545316, 5.83891968, 5.9023862 , 5.96585272,\n",
              "       6.02931923, 6.09278575, 6.15625227, 6.21971879, 6.28318531])"
            ]
          },
          "metadata": {},
          "execution_count": 25
        }
      ]
    },
    {
      "cell_type": "code",
      "source": [
        "sin_array = np.sin(rad_array)"
      ],
      "metadata": {
        "id": "OBmGoGPzu455"
      },
      "execution_count": 26,
      "outputs": []
    },
    {
      "cell_type": "code",
      "source": [
        "sin_array"
      ],
      "metadata": {
        "colab": {
          "base_uri": "https://localhost:8080/"
        },
        "id": "iHrk5LhqAjO2",
        "outputId": "e71bef0c-b051-46c8-cbd9-3661bbf162a0"
      },
      "execution_count": 27,
      "outputs": [
        {
          "output_type": "execute_result",
          "data": {
            "text/plain": [
              "array([ 0.00000000e+00,  6.27905195e-02,  1.25333234e-01,  1.87381315e-01,\n",
              "        2.48689887e-01,  3.09016994e-01,  3.68124553e-01,  4.25779292e-01,\n",
              "        4.81753674e-01,  5.35826795e-01,  5.87785252e-01,  6.37423990e-01,\n",
              "        6.84547106e-01,  7.28968627e-01,  7.70513243e-01,  8.09016994e-01,\n",
              "        8.44327926e-01,  8.76306680e-01,  9.04827052e-01,  9.29776486e-01,\n",
              "        9.51056516e-01,  9.68583161e-01,  9.82287251e-01,  9.92114701e-01,\n",
              "        9.98026728e-01,  1.00000000e+00,  9.98026728e-01,  9.92114701e-01,\n",
              "        9.82287251e-01,  9.68583161e-01,  9.51056516e-01,  9.29776486e-01,\n",
              "        9.04827052e-01,  8.76306680e-01,  8.44327926e-01,  8.09016994e-01,\n",
              "        7.70513243e-01,  7.28968627e-01,  6.84547106e-01,  6.37423990e-01,\n",
              "        5.87785252e-01,  5.35826795e-01,  4.81753674e-01,  4.25779292e-01,\n",
              "        3.68124553e-01,  3.09016994e-01,  2.48689887e-01,  1.87381315e-01,\n",
              "        1.25333234e-01,  6.27905195e-02, -3.21624530e-16, -6.27905195e-02,\n",
              "       -1.25333234e-01, -1.87381315e-01, -2.48689887e-01, -3.09016994e-01,\n",
              "       -3.68124553e-01, -4.25779292e-01, -4.81753674e-01, -5.35826795e-01,\n",
              "       -5.87785252e-01, -6.37423990e-01, -6.84547106e-01, -7.28968627e-01,\n",
              "       -7.70513243e-01, -8.09016994e-01, -8.44327926e-01, -8.76306680e-01,\n",
              "       -9.04827052e-01, -9.29776486e-01, -9.51056516e-01, -9.68583161e-01,\n",
              "       -9.82287251e-01, -9.92114701e-01, -9.98026728e-01, -1.00000000e+00,\n",
              "       -9.98026728e-01, -9.92114701e-01, -9.82287251e-01, -9.68583161e-01,\n",
              "       -9.51056516e-01, -9.29776486e-01, -9.04827052e-01, -8.76306680e-01,\n",
              "       -8.44327926e-01, -8.09016994e-01, -7.70513243e-01, -7.28968627e-01,\n",
              "       -6.84547106e-01, -6.37423990e-01, -5.87785252e-01, -5.35826795e-01,\n",
              "       -4.81753674e-01, -4.25779292e-01, -3.68124553e-01, -3.09016994e-01,\n",
              "       -2.48689887e-01, -1.87381315e-01, -1.25333234e-01, -6.27905195e-02,\n",
              "        6.43249060e-16])"
            ]
          },
          "metadata": {},
          "execution_count": 27
        }
      ]
    },
    {
      "cell_type": "code",
      "source": [
        "plt.title('График синуса от 0 до 2pi')\n",
        "plt.xlabel('x')\n",
        "plt.ylabel('sin(x)')\n",
        "plt.plot(rad_array, sin_array, color='orange')\n",
        "plt.show()"
      ],
      "metadata": {
        "colab": {
          "base_uri": "https://localhost:8080/",
          "height": 472
        },
        "id": "MYLJDN2VBCSg",
        "outputId": "a3ce5055-12bc-44cc-b86d-0f08624b5e67"
      },
      "execution_count": 32,
      "outputs": [
        {
          "output_type": "display_data",
          "data": {
            "text/plain": [
              "<Figure size 640x480 with 1 Axes>"
            ],
            "image/png": "[encoded data removed]"
          },
          "metadata": {}
        }
      ]
    },
    {
      "cell_type": "code",
      "source": [
        "# ===================="
      ],
      "metadata": {
        "id": "E-fli6TKEypM"
      },
      "execution_count": null,
      "outputs": []
    },
    {
      "cell_type": "code",
      "source": [
        "# 8. (1 балл)\n",
        "# Создайте двумерный массив 3x3, заполненный случайными числами от 0 до 9\n",
        "# Отсортируйте строки массива по возрастанию значения во втором столбце."
      ],
      "metadata": {
        "id": "j_HgpqgPE1eM"
      },
      "execution_count": null,
      "outputs": []
    },
    {
      "cell_type": "code",
      "source": [
        "rand_matrix = np.random.randint(10, size=(3, 3))"
      ],
      "metadata": {
        "id": "p-XtCNxSE84E"
      },
      "execution_count": 50,
      "outputs": []
    },
    {
      "cell_type": "code",
      "source": [
        "rand_matrix"
      ],
      "metadata": {
        "colab": {
          "base_uri": "https://localhost:8080/"
        },
        "id": "eIylH3QRFGfq",
        "outputId": "5c302e29-45ff-4f35-b289-3fe81e1db1b7"
      },
      "execution_count": 51,
      "outputs": [
        {
          "output_type": "execute_result",
          "data": {
            "text/plain": [
              "array([[3, 4, 0],\n",
              "       [6, 9, 1],\n",
              "       [3, 8, 4]])"
            ]
          },
          "metadata": {},
          "execution_count": 51
        }
      ]
    },
    {
      "cell_type": "code",
      "source": [
        "# argsort возвращает массив int-индексов, по которым будет сортироваться массив. агрумент - второй столбец матрицы.\n",
        "sorted_second_column_index_array = np.argsort(rand_matrix[:, 1])\n",
        "# или можно записать так rand_matrix[:, 1].argsort()"
      ],
      "metadata": {
        "id": "7X4TbGziFjX8"
      },
      "execution_count": 52,
      "outputs": []
    },
    {
      "cell_type": "code",
      "source": [
        "sorted_second_column_index_array"
      ],
      "metadata": {
        "colab": {
          "base_uri": "https://localhost:8080/"
        },
        "id": "mQ6-zryWKvTI",
        "outputId": "3e3edca1-deb5-4010-9e3f-3759cfcf6426"
      },
      "execution_count": 53,
      "outputs": [
        {
          "output_type": "execute_result",
          "data": {
            "text/plain": [
              "array([0, 2, 1])"
            ]
          },
          "metadata": {},
          "execution_count": 53
        }
      ]
    },
    {
      "cell_type": "code",
      "source": [
        "# сортируем массив по массиву индексов сортировки. тяжело для понимания, но, видимо, индексы сортировки жёсткие, одномерные\n",
        "rand_matrix[sorted_second_column_index_array]"
      ],
      "metadata": {
        "colab": {
          "base_uri": "https://localhost:8080/"
        },
        "id": "zss5dHrfK6i5",
        "outputId": "ed079849-6085-4771-d4d4-69148bdef798"
      },
      "execution_count": 54,
      "outputs": [
        {
          "output_type": "execute_result",
          "data": {
            "text/plain": [
              "array([[3, 4, 0],\n",
              "       [3, 8, 4],\n",
              "       [6, 9, 1]])"
            ]
          },
          "metadata": {},
          "execution_count": 54
        }
      ]
    },
    {
      "cell_type": "code",
      "source": [
        "# ===================="
      ],
      "metadata": {
        "id": "YWvzBoL2KvYo"
      },
      "execution_count": null,
      "outputs": []
    },
    {
      "cell_type": "code",
      "source": [
        "# 9. (1 балл)\n",
        "# На примере массива arr = np.array([[1., 2.], [np.nan, 3.], [4., 5.], [5., np.nan]]) вычислите долю пропущенных значений."
      ],
      "metadata": {
        "id": "uSlSIzARKxb4"
      },
      "execution_count": null,
      "outputs": []
    },
    {
      "cell_type": "code",
      "source": [
        "arr = np.array([[1., 2.], [np.nan, 3.], [4., 5.], [5., np.nan]])"
      ],
      "metadata": {
        "id": "GHsWv3_3bOMK"
      },
      "execution_count": 55,
      "outputs": []
    },
    {
      "cell_type": "code",
      "source": [
        "arr"
      ],
      "metadata": {
        "colab": {
          "base_uri": "https://localhost:8080/"
        },
        "id": "SSOXjAiWbQDn",
        "outputId": "b5b55321-7573-43d9-9a6d-b32cc6924294"
      },
      "execution_count": 56,
      "outputs": [
        {
          "output_type": "execute_result",
          "data": {
            "text/plain": [
              "array([[ 1.,  2.],\n",
              "       [nan,  3.],\n",
              "       [ 4.,  5.],\n",
              "       [ 5., nan]])"
            ]
          },
          "metadata": {},
          "execution_count": 56
        }
      ]
    },
    {
      "cell_type": "code",
      "source": [
        "# если Nan, то True, иначе False\n",
        "np.isnan(arr)"
      ],
      "metadata": {
        "colab": {
          "base_uri": "https://localhost:8080/"
        },
        "id": "TsL1RZM3dz6q",
        "outputId": "37d5eeaf-1c4c-451c-9962-5110dab90f66"
      },
      "execution_count": 77,
      "outputs": [
        {
          "output_type": "execute_result",
          "data": {
            "text/plain": [
              "array([[False, False],\n",
              "       [ True, False],\n",
              "       [False, False],\n",
              "       [False,  True]])"
            ]
          },
          "metadata": {},
          "execution_count": 77
        }
      ]
    },
    {
      "cell_type": "code",
      "source": [
        "# количество пропущенных (т.е. True после np.isnan). np.count_nonzero counts values that is not 0\\false\n",
        "missing_count = np.count_nonzero(np.isnan(arr))"
      ],
      "metadata": {
        "id": "gSRzFVJTfP1u"
      },
      "execution_count": 78,
      "outputs": []
    },
    {
      "cell_type": "code",
      "source": [
        "missing_count"
      ],
      "metadata": {
        "colab": {
          "base_uri": "https://localhost:8080/"
        },
        "id": "FhAX135ehnfg",
        "outputId": "163fe135-0109-49a9-dcb7-029ab951078d"
      },
      "execution_count": 85,
      "outputs": [
        {
          "output_type": "execute_result",
          "data": {
            "text/plain": [
              "2"
            ]
          },
          "metadata": {},
          "execution_count": 85
        }
      ]
    },
    {
      "cell_type": "code",
      "source": [
        "# количество всех элементов массива\n",
        "total_count = np.size(arr)"
      ],
      "metadata": {
        "id": "eZRwTaDJcnhk"
      },
      "execution_count": 79,
      "outputs": []
    },
    {
      "cell_type": "code",
      "source": [
        "total_count"
      ],
      "metadata": {
        "colab": {
          "base_uri": "https://localhost:8080/"
        },
        "id": "9E_rhRGhcbdo",
        "outputId": "6c021c05-b487-4033-f3f4-adaadf076850"
      },
      "execution_count": 80,
      "outputs": [
        {
          "output_type": "execute_result",
          "data": {
            "text/plain": [
              "8"
            ]
          },
          "metadata": {},
          "execution_count": 80
        }
      ]
    },
    {
      "cell_type": "code",
      "source": [
        "# доля пропущенных значений\n",
        "proportion = round(missing_count / total_count, 2)"
      ],
      "metadata": {
        "id": "b3qFYWyvhP3X"
      },
      "execution_count": 83,
      "outputs": []
    },
    {
      "cell_type": "code",
      "source": [
        "proportion"
      ],
      "metadata": {
        "colab": {
          "base_uri": "https://localhost:8080/"
        },
        "id": "uPE9sZTmhW4i",
        "outputId": "cd489d7a-af40-4b1b-e226-94c52035f099"
      },
      "execution_count": 84,
      "outputs": [
        {
          "output_type": "execute_result",
          "data": {
            "text/plain": [
              "0.25"
            ]
          },
          "metadata": {},
          "execution_count": 84
        }
      ]
    }
  ]
}